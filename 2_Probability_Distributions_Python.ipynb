{
 "cells": [
  {
   "cell_type": "markdown",
   "metadata": {},
   "source": [
    "# Probability distributions"
   ]
  },
  {
   "cell_type": "code",
   "execution_count": 1,
   "metadata": {},
   "outputs": [],
   "source": [
    "import pandas as pd\n",
    "import numpy as np\n",
    "import seaborn as sns\n",
    "import matplotlib.pyplot as plt\n",
    "\n",
    "%matplotlib inline"
   ]
  },
  {
   "cell_type": "code",
   "execution_count": 2,
   "metadata": {},
   "outputs": [
    {
     "data": {
      "text/html": [
       "<div>\n",
       "<style scoped>\n",
       "    .dataframe tbody tr th:only-of-type {\n",
       "        vertical-align: middle;\n",
       "    }\n",
       "\n",
       "    .dataframe tbody tr th {\n",
       "        vertical-align: top;\n",
       "    }\n",
       "\n",
       "    .dataframe thead th {\n",
       "        text-align: right;\n",
       "    }\n",
       "</style>\n",
       "<table border=\"1\" class=\"dataframe\">\n",
       "  <thead>\n",
       "    <tr style=\"text-align: right;\">\n",
       "      <th></th>\n",
       "      <th>rcc</th>\n",
       "      <th>wcc</th>\n",
       "      <th>hc</th>\n",
       "      <th>hg</th>\n",
       "      <th>ferr</th>\n",
       "      <th>bmi</th>\n",
       "      <th>ssf</th>\n",
       "      <th>pcBfat</th>\n",
       "      <th>lbm</th>\n",
       "      <th>ht</th>\n",
       "      <th>wt</th>\n",
       "      <th>sex</th>\n",
       "      <th>sport</th>\n",
       "    </tr>\n",
       "  </thead>\n",
       "  <tbody>\n",
       "    <tr>\n",
       "      <th>0</th>\n",
       "      <td>3.96</td>\n",
       "      <td>7.5</td>\n",
       "      <td>37.5</td>\n",
       "      <td>12.3</td>\n",
       "      <td>60</td>\n",
       "      <td>20.56</td>\n",
       "      <td>109.1</td>\n",
       "      <td>19.75</td>\n",
       "      <td>63.32</td>\n",
       "      <td>195.9</td>\n",
       "      <td>78.9</td>\n",
       "      <td>f</td>\n",
       "      <td>B_Ball</td>\n",
       "    </tr>\n",
       "    <tr>\n",
       "      <th>1</th>\n",
       "      <td>4.41</td>\n",
       "      <td>8.3</td>\n",
       "      <td>38.2</td>\n",
       "      <td>12.7</td>\n",
       "      <td>68</td>\n",
       "      <td>20.67</td>\n",
       "      <td>102.8</td>\n",
       "      <td>21.30</td>\n",
       "      <td>58.55</td>\n",
       "      <td>189.7</td>\n",
       "      <td>74.4</td>\n",
       "      <td>f</td>\n",
       "      <td>B_Ball</td>\n",
       "    </tr>\n",
       "    <tr>\n",
       "      <th>2</th>\n",
       "      <td>4.14</td>\n",
       "      <td>5.0</td>\n",
       "      <td>36.4</td>\n",
       "      <td>11.6</td>\n",
       "      <td>21</td>\n",
       "      <td>21.86</td>\n",
       "      <td>104.6</td>\n",
       "      <td>19.88</td>\n",
       "      <td>55.36</td>\n",
       "      <td>177.8</td>\n",
       "      <td>69.1</td>\n",
       "      <td>f</td>\n",
       "      <td>B_Ball</td>\n",
       "    </tr>\n",
       "    <tr>\n",
       "      <th>3</th>\n",
       "      <td>4.11</td>\n",
       "      <td>5.3</td>\n",
       "      <td>37.3</td>\n",
       "      <td>12.6</td>\n",
       "      <td>69</td>\n",
       "      <td>21.88</td>\n",
       "      <td>126.4</td>\n",
       "      <td>23.66</td>\n",
       "      <td>57.18</td>\n",
       "      <td>185.0</td>\n",
       "      <td>74.9</td>\n",
       "      <td>f</td>\n",
       "      <td>B_Ball</td>\n",
       "    </tr>\n",
       "    <tr>\n",
       "      <th>4</th>\n",
       "      <td>4.45</td>\n",
       "      <td>6.8</td>\n",
       "      <td>41.5</td>\n",
       "      <td>14.0</td>\n",
       "      <td>29</td>\n",
       "      <td>18.96</td>\n",
       "      <td>80.3</td>\n",
       "      <td>17.64</td>\n",
       "      <td>53.20</td>\n",
       "      <td>184.6</td>\n",
       "      <td>64.6</td>\n",
       "      <td>f</td>\n",
       "      <td>B_Ball</td>\n",
       "    </tr>\n",
       "  </tbody>\n",
       "</table>\n",
       "</div>"
      ],
      "text/plain": [
       "    rcc  wcc    hc    hg  ferr    bmi    ssf  pcBfat    lbm     ht    wt sex  \\\n",
       "0  3.96  7.5  37.5  12.3    60  20.56  109.1   19.75  63.32  195.9  78.9   f   \n",
       "1  4.41  8.3  38.2  12.7    68  20.67  102.8   21.30  58.55  189.7  74.4   f   \n",
       "2  4.14  5.0  36.4  11.6    21  21.86  104.6   19.88  55.36  177.8  69.1   f   \n",
       "3  4.11  5.3  37.3  12.6    69  21.88  126.4   23.66  57.18  185.0  74.9   f   \n",
       "4  4.45  6.8  41.5  14.0    29  18.96   80.3   17.64  53.20  184.6  64.6   f   \n",
       "\n",
       "    sport  \n",
       "0  B_Ball  \n",
       "1  B_Ball  \n",
       "2  B_Ball  \n",
       "3  B_Ball  \n",
       "4  B_Ball  "
      ]
     },
     "execution_count": 2,
     "metadata": {},
     "output_type": "execute_result"
    }
   ],
   "source": [
    "data = pd.read_csv('aust_athletes_data.csv')\n",
    "data.head()"
   ]
  },
  {
   "cell_type": "code",
   "execution_count": 6,
   "metadata": {},
   "outputs": [],
   "source": [
    "from scipy.stats import norm\n",
    "from scipy.stats import probplot\n",
    "from scipy.stats import skew"
   ]
  },
  {
   "cell_type": "code",
   "execution_count": 7,
   "metadata": {},
   "outputs": [
    {
     "name": "stdout",
     "output_type": "stream",
     "text": [
      "Skewness of height parameter :  -0.1993027980729341\n",
      "Skewness of weight parameter :  0.24060527967495085\n"
     ]
    }
   ],
   "source": [
    "# Checking Skew\n",
    "print(\"Skewness of height parameter : \", skew(data[\"ht\"]))\n",
    "print(\"Skewness of weight parameter : \", skew(data[\"wt\"]))"
   ]
  },
  {
   "cell_type": "markdown",
   "metadata": {},
   "source": [
    "`Here, height is slightly skewed to the left whereas weight is slightly to the right.`"
   ]
  },
  {
   "cell_type": "markdown",
   "metadata": {},
   "source": [
    "### Types of Probability distribution\n",
    "\n",
    "`Based on the type of a random variable(discrete or continuous) there are two types of Probability distributions - Discrete and Continuous. We are going to discuss following probability distributions.`\n",
    "\n",
    "- Discrete probability distribution\n",
    "\n",
    " 1. Discrete uniform\n",
    "\n",
    " 2. Binomial distribution\n",
    "\n",
    "- Continuous probability distribution\n",
    "\n",
    " 1. Continuous uniform\n",
    "\n",
    " 2. Normal distribution\n",
    "\n",
    " 3. Lognormal distribution"
   ]
  },
  {
   "cell_type": "markdown",
   "metadata": {},
   "source": [
    "Now let's try to answer the below questions.\n",
    "\n",
    "- What % of athelete has height <=165 cm?\n",
    "- What % of athelete has height between 165 and 185 cm?\n",
    "- What % of athelete has height >185 cm?"
   ]
  },
  {
   "cell_type": "code",
   "execution_count": 8,
   "metadata": {},
   "outputs": [
    {
     "data": {
      "text/plain": [
       "0.0594059405940594"
      ]
     },
     "execution_count": 8,
     "metadata": {},
     "output_type": "execute_result"
    }
   ],
   "source": [
    "len(data[data['ht'] <= 165])/len(data)"
   ]
  },
  {
   "cell_type": "code",
   "execution_count": 20,
   "metadata": {},
   "outputs": [],
   "source": [
    "from scipy.stats import norm"
   ]
  },
  {
   "cell_type": "code",
   "execution_count": 19,
   "metadata": {},
   "outputs": [
    {
     "name": "stdout",
     "output_type": "stream",
     "text": [
      "0.06037998011893779\n"
     ]
    }
   ],
   "source": [
    "#% of athelete has height <=165 cm\n",
    "print(norm.cdf(165, loc = data[\"ht\"].mean(), scale = data[\"ht\"].std()))"
   ]
  },
  {
   "cell_type": "code",
   "execution_count": 17,
   "metadata": {},
   "outputs": [
    {
     "name": "stdout",
     "output_type": "stream",
     "text": [
      "0.6321230376276139\n"
     ]
    }
   ],
   "source": [
    "# % of athelete has height between 165 and 185 cm\n",
    "print(norm.cdf(185, loc = data[\"ht\"].mean(), scale = data[\"ht\"].std()) - norm.cdf(165, loc = data[\"ht\"].mean(), scale = data[\"ht\"].std()))"
   ]
  },
  {
   "cell_type": "code",
   "execution_count": 18,
   "metadata": {},
   "outputs": [
    {
     "name": "stdout",
     "output_type": "stream",
     "text": [
      "0.30749698225344835\n"
     ]
    }
   ],
   "source": [
    "# % of athelete has height >185 cm\n",
    "print( 1- norm.cdf(185, loc = data[\"ht\"].mean(), scale = data[\"ht\"].std()))"
   ]
  },
  {
   "cell_type": "markdown",
   "metadata": {},
   "source": [
    "### Normality test\n",
    "Normality test are used to determine whether the data is normally distribution or not OR whether the sample data comes from normally distributed population or not.\n",
    "There are various kind of graphical and numeric tests to determine this.\n",
    "\n",
    "- Graphical tests\n",
    "\n",
    " 1. Histogram/density plot\n",
    "\n",
    " 2. Q-Q plot\n",
    "\n",
    "- Numeric tests\n",
    "\n",
    " 1. Shapiro-Wilk test\n",
    "\n",
    " 2. Kolmogorov-Smironv test"
   ]
  },
  {
   "cell_type": "markdown",
   "metadata": {},
   "source": [
    "### a. QQ Plot\n",
    "It is a graphical method for comparing two probability distributions by plotting their quantiles against each other. For normality test one distribution is w.r.t. given sample that we want to test and the another distribution is the standard normal distribution. There are builtin methods available in statsmodels and scipy package to plot Q-Q plot. We can also plot it manually."
   ]
  },
  {
   "cell_type": "markdown",
   "metadata": {},
   "source": [
    "### b. Shapiro-Wilk test¶\n",
    "It's a numeric test to check whether a sample is normally distributed or not. It is a hypothesis based test where null and alternate hypothesis is defined as below -\n",
    "\n",
    "H0 (Null Hypothesis) - Sample is normally distributed\n",
    "\n",
    "H1 (Alternate Hypothesis) - Sample is not normally distributed\n",
    "\n",
    "This, if the p value obtained for the W statistic is less than significance level( α ) then null hypothesis is rejected On the other hand, if the p value is greater than  α  then we failed to reject null hypothesis."
   ]
  },
  {
   "cell_type": "code",
   "execution_count": 22,
   "metadata": {},
   "outputs": [
    {
     "name": "stdout",
     "output_type": "stream",
     "text": [
      "0.21208299696445465\n"
     ]
    }
   ],
   "source": [
    "from scipy.stats import shapiro\n",
    "print(shapiro(data['ht'])[1])"
   ]
  },
  {
   "cell_type": "markdown",
   "metadata": {},
   "source": [
    "`So the p value is > 0.05 so we fail to reject the null hypothesis`\n",
    "\n",
    "`Here for  α  = 0.05, obtained p value(0.2120) >  α  , so we failed to reject null hypothesis i.e height came from a normally distributed population.`"
   ]
  },
  {
   "cell_type": "markdown",
   "metadata": {},
   "source": [
    "### c. Kolmogorov–Smirnov(K-S) test\n",
    "K-S test provides a way to -\n",
    "\n",
    "- check whether a sample is drawn from a reference probability distribution or not(one-sample K–S test)\n",
    "\n",
    "- check whether two samples are drawn from the same distribution or not(two-sample K–S test). \n",
    "\n",
    "It is a hypothesis based test where null and alternate hypothesis for one-sample K–S test is defined as below -\n",
    "\n",
    "- H0 (Null Hypothesis) - Sample follows the reference distribution\n",
    "\n",
    "- H1 (Alternate Hypothesis) - Sample does not follow the reference distribution"
   ]
  },
  {
   "cell_type": "code",
   "execution_count": 25,
   "metadata": {},
   "outputs": [
    {
     "name": "stdout",
     "output_type": "stream",
     "text": [
      "KstestResult(statistic=0.04556908744140109, pvalue=0.7956300304012434)\n"
     ]
    }
   ],
   "source": [
    "from scipy.stats import kstest\n",
    "print(kstest(data['ht'], 'norm', args = (data['ht'].mean(), data['ht'].std())))"
   ]
  },
  {
   "cell_type": "markdown",
   "metadata": {},
   "source": [
    "`Here for  α  = 0.05, obtained p value(0.7958) >  α  , so we failed to reject null hypothesis i.e height follows normal distribution.`"
   ]
  },
  {
   "cell_type": "markdown",
   "metadata": {},
   "source": [
    "### 3. Binomial distribution\n",
    "Binomial distribution is a discrete probability distribution for obtaining exactly  k  successes out of  n  Bernoulli trails.\n",
    "\n",
    "Characteristics of a Bernoulli trails -\n",
    "\n",
    "Each trail has only two possible outcomes - success and failure.\n",
    "Total number of trails are fixed.\n",
    "Probability of success and failure remains same through out all the trails.\n",
    "The trails are independent of each other.\n",
    "Binomial distribution is a way of calculating the probability of  k  successes from  n  Bernoulli trails.\n",
    "\n",
    "The PMF of a binomial random variate is given as\n",
    "\n",
    "P(X=k)=(nk)pk(1−p)n−k\n",
    " \n",
    "where p = probability of success and (1-p) = probability of failure\n",
    "\n",
    "k = number of successes and (n-k) = number of failures"
   ]
  },
  {
   "cell_type": "code",
   "execution_count": 27,
   "metadata": {},
   "outputs": [
    {
     "name": "stdout",
     "output_type": "stream",
     "text": [
      "probability that exactly two atheletes play basketball :  0.033129161897993045\n"
     ]
    }
   ],
   "source": [
    "#From the underlying dataset, we can observe that only 12.37%(25/202) atheletes play Basketball, Now if we choose a random sample of 50 atheletes then\n",
    "\n",
    "#What is the probability that exactly two atheletes play basketball?\n",
    "from scipy.stats import binom\n",
    "n= 50 #total number of fixed trials\n",
    "p= 0.1237 #probability of success\n",
    "print(\"probability that exactly two atheletes play basketball : \", binom.pmf(2,50,0.1237))\n"
   ]
  },
  {
   "cell_type": "code",
   "execution_count": 28,
   "metadata": {},
   "outputs": [
    {
     "name": "stdout",
     "output_type": "stream",
     "text": [
      "probability that exactly at most 10 atheletes play basketball :  0.9605911166949369\n"
     ]
    }
   ],
   "source": [
    "#What is the probability that at most 10 atheletes play basketball?\n",
    "print(\"probability that exactly at most 10 atheletes play basketball : \", binom.cdf(10,50,0.1237))"
   ]
  },
  {
   "cell_type": "code",
   "execution_count": 29,
   "metadata": {},
   "outputs": [
    {
     "name": "stdout",
     "output_type": "stream",
     "text": [
      "probability that exactly at least 20 atheletes play basketball :  0.0\n"
     ]
    }
   ],
   "source": [
    "#What is the probability that at least 20 atheletes play basketball?\n",
    "print(\"probability that exactly at least 20 atheletes play basketball : \", np.round((1- binom.cdf(20,50,0.1237)) + binom.pmf(20,50,0.1237)))"
   ]
  },
  {
   "cell_type": "code",
   "execution_count": null,
   "metadata": {},
   "outputs": [],
   "source": [
    "#Since all the above questions hold a varying number of successes(2,10,20) from fixed number of trails(50) with p = 0.1237 so binomial distribution can be used to answer these questions."
   ]
  },
  {
   "cell_type": "markdown",
   "metadata": {},
   "source": [
    "### 4. Uniform distributions\n",
    "Based on the type of random variable there are two types of uniform distributions.\n",
    "\n",
    "- Discrete uniform distribution for discrete random variable\n",
    "- Continuous uniform distribution for continuous random variable"
   ]
  },
  {
   "cell_type": "markdown",
   "metadata": {},
   "source": [
    "### 5.  LogNormal distribution\n",
    "A random variable X is said to be lognormally distributed if natural logarithm of X is normally distributed. In other words X ∽LogNormal ( μ , σ ) if  log(X)  is normally distributed.\n",
    "\n",
    "PDF of a log normally distributed random variable is given as"
   ]
  },
  {
   "cell_type": "code",
   "execution_count": null,
   "metadata": {},
   "outputs": [],
   "source": []
  }
 ],
 "metadata": {
  "kernelspec": {
   "display_name": "Python 3",
   "language": "python",
   "name": "python3"
  },
  "language_info": {
   "codemirror_mode": {
    "name": "ipython",
    "version": 3
   },
   "file_extension": ".py",
   "mimetype": "text/x-python",
   "name": "python",
   "nbconvert_exporter": "python",
   "pygments_lexer": "ipython3",
   "version": "3.6.10"
  }
 },
 "nbformat": 4,
 "nbformat_minor": 4
}
